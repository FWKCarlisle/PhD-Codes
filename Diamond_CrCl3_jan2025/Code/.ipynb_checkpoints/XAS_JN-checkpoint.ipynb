{
 "cells": [
  {
   "cell_type": "code",
   "execution_count": 1,
   "id": "cbb5c4d9-8d61-4165-9882-36ed23b574a1",
   "metadata": {
    "editable": true,
    "slideshow": {
     "slide_type": ""
    },
    "tags": []
   },
   "outputs": [
    {
     "name": "stdout",
     "output_type": "stream",
     "text": [
      "ALL GOOD HERE BOSS!\n"
     ]
    }
   ],
   "source": [
    "# -*- coding: utf-8 -*-\n",
    "\"\"\"\n",
    "Created on Thu Sep  5 11:23:27 2024\n",
    "\n",
    "@author: Wstev\n",
    "\"\"\"\n",
    "\n",
    "import matplotlib.pyplot as plt\n",
    "import numpy as np\n",
    "from nexusformat.nexus import nxload\n",
    "print(\"ALL GOOD HERE BOSS!\")"
   ]
  },
  {
   "cell_type": "code",
   "execution_count": 2,
   "id": "d887fcf2-8c25-4a64-8561-e30f10903c88",
   "metadata": {
    "editable": true,
    "slideshow": {
     "slide_type": ""
    },
    "tags": []
   },
   "outputs": [
    {
     "name": "stdout",
     "output_type": "stream",
     "text": [
      "No Errors here\n"
     ]
    }
   ],
   "source": [
    "class Nexus_handling:\n",
    "    def get_nexus_data_I06(self,file):\n",
    "        \"\"\"Function that loads the data from a nexus file and returns it as a list of numpy\n",
    "arrays\"\"\"\n",
    "        entry_string = \"entry\"\n",
    "        data_region_list = []\n",
    "        metadata_region_list = None\n",
    "        x_array = file[entry_string][\"instrument\"][\"fastEnergy\"][\"value\"].nxvalue\n",
    "        y_array = file[entry_string][\"instrument\"][\"fesData\"][\"C1\"].nxvalue\n",
    "        data_region_list.append({\"x\": x_array, \"y\": y_array})\n",
    "        y_array = file[entry_string][\"instrument\"][\"fesData\"][\"C5\"].nxvalue\n",
    "        data_region_list.append({\"x\": x_array, \"y\": y_array})\n",
    "        y_array = file[entry_string][\"instrument\"][\"fesData\"][\"idio\"].nxvalue\n",
    "        data_region_list.append({\"x\": x_array, \"y\": y_array})\n",
    "        y_array = file[entry_string][\"instrument\"][\"fesData\"][\"ifiofb\"].nxvalue\n",
    "        data_region_list.append({\"x\": x_array, \"y\": y_array})\n",
    "        magnet_field = file[entry_string][\"instrument\"][\"scm\"][\"field_z\"].nxvalue\n",
    "        metadata_region_list = {\"magnet_ﬁeld\": magnet_field}\n",
    "        polar = file[entry_string][\"instrument\"][\"id\"][\"polarisation\"].nxvalue\n",
    "        metadata_region_list[\"polarisation\"] = polar\n",
    "        return data_region_list, metadata_region_list\n",
    "\n",
    "    def open_single_spectra(self,ﬁle_number,directory_path,ﬁle_preﬁx,sensor):\n",
    "        ﬁle_name = directory_path + ﬁle_preﬁx + str(ﬁle_number) + \".nxs\"\n",
    "        spectra_ﬁle = nxload(ﬁle_name)\n",
    "        data,meta_data = self.get_nexus_data_I06(spectra_ﬁle)\n",
    "        if sensor == \"TEY\":\n",
    "            spectra = {\"x\" : data[2][\"x\"],\"y\":data[2][\"y\"],\"meta\" : meta_data}\n",
    "        elif sensor == \"TFY\":\n",
    "            spectra = {\"x\" : data[3][\"x\"],\"y\":data[3][\"y\"],\"meta\" : meta_data}\n",
    "        return spectra\n",
    "\n",
    "    def group_spectra(self,XMCD_spectra_id):\n",
    "        grouped_data = []\n",
    "        for i in range(XMCD_spectra_id, XMCD_spectra_id+self.group_size):\n",
    "            x,y = self.open_single_spectra(i,self.directory_path,self.ﬁle_preﬁx)\n",
    "            data_set = np.array([x,y])\n",
    "            grouped_data.append(data_set)\n",
    "        return grouped_data\n",
    "\n",
    "print(\"No Errors here\")"
   ]
  },
  {
   "cell_type": "code",
   "execution_count": 3,
   "id": "49aedd2c-6b38-4819-8858-9e242e816f11",
   "metadata": {
    "editable": true,
    "slideshow": {
     "slide_type": ""
    },
    "tags": []
   },
   "outputs": [
    {
     "name": "stdout",
     "output_type": "stream",
     "text": [
      "A significant lack of problems in the vicinity\n"
     ]
    }
   ],
   "source": [
    "class normalisation_procedures:\n",
    "\n",
    "    def normalise_spectra_vy_oI_edge_point(spectra_set,oI_edge = 542):\n",
    "        \"\"\"Norm procedure by an of single point from the oI edge\"\"\"\n",
    "        normalised_set = []\n",
    "        for i in range(len(spectra_set)):\n",
    "            x = spectra_set[i][0]\n",
    "            y = spectra_set[i][1]\n",
    "        #get y value at index closest to where x = oI_edge\n",
    "            y_oI_edge = y[np.argmin(np.abs(x-oI_edge))]\n",
    "            y = y/y_oI_edge\n",
    "            normalised_set.append(np.array([x,y]))\n",
    "        return normalised_set\n",
    "\n",
    "    def normalise_spectra_by_range(self,spectra_set,oI_edge_range = [570,573]):  \n",
    "        \"\"\"Norm procedure by an of range along the oI edge\"\"\"\n",
    "        x = spectra_set[\"x\"]\n",
    "        y = spectra_set[\"y\"]\n",
    "        #get y value at index closest to where x = oI_edge\n",
    "        y_oI_edge = np.mean(y[np.where((x > oI_edge_range[0]) & (x < oI_edge_range[1]))])\n",
    "        return y - y_oI_edge\n",
    "        \n",
    "    def normalise_spectra_by_linear_ﬁt(spectra_set,oI_edge_range = [570,573]):\n",
    "        \"\"\"Norm procedure by ﬁtting a line to the oI edfe\"\"\"\n",
    "        normalised_set = []\n",
    "        for i in range(len(spectra_set)):\n",
    "            x = spectra_set[i][0]\n",
    "            y = spectra_set[i][1]\n",
    "        #get y value at index closest to where x = oI_edge\n",
    "            y_oI_edge = y[np.where((x > oI_edge_range[0]) & (x < oI_edge_range[1]))]\n",
    "            x_oI_edge = x[np.where((x > oI_edge_range[0]) & (x < oI_edge_range[1]))] #ﬁt a line to the oI edge\n",
    "            def line(x,m,c):\n",
    "                return m*x + c\n",
    "            model = lm.Model(line)\n",
    "            params = model.make_params(m=0,c=0)\n",
    "            result = model.ﬁt(y_oI_edge,params,x=x_oI_edge)\n",
    "            y = y - result.best_ﬁt\n",
    "            normalised_set.append(np.array([x_oI_edge,y]))\n",
    "        return normalised_set\n",
    "\n",
    "    def _calculate_shirley_background_full_range(xps: np.ndarray, eps=1e-7, max_iters=50, n_samples=5)-> np.ndarray:\n",
    "        \"\"\"Core routine for calculating a Shirley background on np.ndarray data.\"\"\"\n",
    "        background = np.copy(xps)\n",
    "        cumulative_xps = np.cumsum(xps, axis=0)\n",
    "        total_xps = np.sum(xps, axis=0)\n",
    "       \n",
    "        rel_error = np.inf\n",
    "       \n",
    "        i_left = np.mean(xps[:n_samples], axis=0)\n",
    "        i_right = np.mean(xps[-n_samples:], axis=0)\n",
    "       \n",
    "        iter_count = 0\n",
    "       \n",
    "        k = i_left - i_right\n",
    "        for iter_count in range(max_iters):\n",
    "            cumulative_background = np.cumsum(background, axis=0)\n",
    "            total_background = np.sum(background, axis=0)\n",
    "         \n",
    "            new_bkg = np.copy(background)\n",
    "       \n",
    "        for i in range(len(new_bkg)):\n",
    "            new_bkg[i] = i_right + k * ((total_xps - cumulative_xps[i] - (total_background - cumulative_background[i]))/(total_xps - total_background + 1e-5))\n",
    "       \n",
    "            rel_error = np.abs(np.sum(new_bkg, axis=0) - total_background) / (total_background)\n",
    "       \n",
    "            background = new_bkg\n",
    "            if np.any(rel_error < eps): break\n",
    "            #if (iter_count + 1) == max_iters:\n",
    "                #warnings.warn(\"Shirley background calculation did not converge \" + \"after {} steps with relative error {}!\".format(max_iters, rel_error))\n",
    "        return background\n",
    "\n",
    "print(\"A significant lack of problems in the vicinity\")\n",
    "    "
   ]
  },
  {
   "cell_type": "code",
   "execution_count": 4,
   "id": "aed9913c-148a-4b61-a287-69eb894dd1e5",
   "metadata": {
    "editable": true,
    "slideshow": {
     "slide_type": ""
    },
    "tags": []
   },
   "outputs": [
    {
     "name": "stdout",
     "output_type": "stream",
     "text": [
      "All good once again\n"
     ]
    }
   ],
   "source": [
    "class XMCD_data_analysis(Nexus_handling):\n",
    "    def init(self):\n",
    "        self.on_oI_edge_points = [571, 576.9]\n",
    "        self.directory_path = None\n",
    "        self.ﬁle_preﬁx = None\n",
    "        self.energy = None\n",
    "        self.spectra = []\n",
    "        self.hyst = []\n",
    "        self.XMCD = []\n",
    "        self.magz = []\n",
    "\n",
    "\n",
    "    def set_directory_path(self, directory_path):\n",
    "        self.directory_path = directory_path\n",
    "\n",
    "    def set_ﬁle_preﬁx(self, ﬁle_preﬁx):\n",
    "        self.ﬁle_preﬁx = ﬁle_preﬁx\n",
    "\n",
    "    def load_spectra(self, directory_path, ﬁle_preﬁx, XMCD_spectra_Set,sensor = \"TEY\"):  \n",
    "        self.directory_path = directory_path\n",
    "        self.ﬁle_preﬁx = ﬁle_preﬁx\n",
    " \n",
    "        for ﬁle_number in XMCD_spectra_Set: #\n",
    "            print(ﬁle_number)\n",
    "            data_set = self.open_single_spectra(ﬁle_number, directory_path,  ﬁle_preﬁx,sensor)\n",
    "            self.spectra.append(data_set)\n",
    "            self.energy = self.spectra[0][\"x\"]\n",
    "\n",
    "\n",
    "    def  normalise_all_spectra(self,  procedure=\"normalise_spectra_by_linear_ﬁt\",  oI_edge=  [570, 573]):\n",
    "        for i in range(len(self.spectra)):\n",
    "            y = getattr(normalisation_procedures, procedure)(self, self.spectra[i], oI_edge)\n",
    "            y = y - normalisation_procedures._calculate_shirley_background_full_range(y)\n",
    "            self.spectra[i][\"y\"] = y\n",
    "\n",
    "    def check_spectra(self,start = 0,ﬁnish = 20, group_size = 5):\n",
    "        for i in range(start,ﬁnish,group_size):\n",
    "            for j in range(group_size):\n",
    "                x = self.spectra[i+j][\"x\"]\n",
    "                y = self.spectra[i+j][\"y\"]\n",
    "                back  =  normalisation_procedures._calculate_shirley_background_full_range(y)  \n",
    "                ﬁg,ax = plt.subplots()\n",
    "                plt.plot(x,y)\n",
    "                plt.plot(x,back)\n",
    "                ax.annotate(str(self.spectra[i+j][\"meta\"][\"magnet_ﬁeld\"]),xy=(0.9,0.9),xytext  =  (0.95,0.95),xycoords = \"axes fraction\")\n",
    "            plt.show()\n",
    "        return\n",
    "\n",
    "    def decimal_length(number):\n",
    "        # Convert the number to a string\n",
    "        number_str = str(number)\n",
    "\n",
    "    # Find the position of the decimal point\n",
    "        decimal_position = number_str.ﬁnd('.')\n",
    "\n",
    "    # If there's no decimal point, return 0\n",
    "        if decimal_position == -1:\n",
    "            return 0\n",
    "\n",
    "\n",
    "    def plotXAS(self,XMCD_ﬁle_Set,fig,axs):\n",
    "        self.normalise_all_spectra(procedure=\"normalise_spectra_by_range\",  oI_edge=  [570, 573])\n",
    "            #takes in a 2x2 axis\n",
    "        plt.rcParams.update({'font.size': 14})\n",
    "        F = self.energy\n",
    "        axs[1].set_title((\"XAS \",sensor,\"(normalised)\"))\n",
    "        axs[0].set_title((\"XAS \",sensor))\n",
    "        axs[0].set_xlabel(\"Energy(eV)\")\n",
    "        axs[0].set_ylabel(\"idio\")\n",
    "        axs[1].set_xlabel(\"Energy(eV)\")\n",
    "           \n",
    "        plt.rcParams.update({'font.size': 12})\n",
    "        for i in range(0,len(XMCD_file_Set)):\n",
    "            a = self.spectra[i]\n",
    "            F = a[\"y\"]\n",
    "            B = a[\"x\"]\n",
    "            print(\"F:\", F)\n",
    "            print(\"B:\", B)\n",
    "            #plt.pause(0.5)\n",
    "            axs[0].plot(B,(F),label = str(XMCD_file_Set[i]))\n",
    "            axs[1].plot(B,(F)/np.max(F),label = str(XMCD_file_Set[i]))\n",
    "        axs[0].legend(loc=\"best\") \n",
    "        plot_numbers = [B, F, F/np.max(F)]\n",
    "        return plot_numbers\n",
    "\n",
    "\n",
    "\n",
    "\n",
    "\n",
    "print(\"All good once again\")"
   ]
  },
  {
   "cell_type": "code",
   "execution_count": 5,
   "id": "95e2cf44-071a-4a09-a51b-6770729820de",
   "metadata": {
    "editable": true,
    "slideshow": {
     "slide_type": ""
    },
    "tags": []
   },
   "outputs": [
    {
     "name": "stdout",
     "output_type": "stream",
     "text": [
      "328342\n",
      "328348\n",
      "F: [-8.600043e-03 -8.560443e-03 -8.581159e-03 ... -4.369314e-05 -1.344040e-04\n",
      " -2.225249e-04]\n",
      "B: [569.9563 570.0395 570.128  ... 594.796  594.8956 594.9982]\n"
     ]
    },
    {
     "data": {
      "image/png": "[encoded data removed]",
      "text/plain": [
       "<Figure size 1200x600 with 2 Axes>"
      ]
     },
     "metadata": {},
     "output_type": "display_data"
    },
    {
     "name": "stdout",
     "output_type": "stream",
     "text": [
      "F: [-2.366758e-03 -2.440030e-03 -2.483882e-03 ... -2.555239e-05 -3.559517e-05\n",
      " -1.101452e-04]\n",
      "B: [569.9599 570.042  570.1253 ... 594.8023 594.9015 594.9951]\n"
     ]
    }
   ],
   "source": [
    "#%%\n",
    "#% Write XAS - idio,fluroscense,then both normalised\n",
    "# XAS on BP(1)\n",
    "directory_path = \"\"\n",
    "ﬁle_preﬁx = \"i06-1-\"\n",
    "\n",
    "#fig, axs = plt.subplots(2,3, figsize=(12, 6))\n",
    "sensor = \"TEY\" ### Can be TEY or TFY\n",
    "#XMCD_ﬁle_Set=(328342,328348,328343,328344,328345,328346,328347,328349,328459,328451,328554,328555,328556,328557,328558,328559,328930,328971,328972,328973,328976,328977,328978,328979,328983,328984,328985,328986,328987,328988,328989,328990,328992,328993,329003,329006,329007,329010)\n",
    "#XMCD_ﬁle_Set=(328342,328343,328344,328345,328346,328347,328348,328349,328451,328554,328556,328556,328557,328558,328559,328930,328971,328973,328976,328977,328978,328979,328983,328984,328985,328986,328987,328989,328992,328993,329003,329006,329007,329010)\n",
    "\n",
    "files = [328342, 328348, 328343,328344]\n",
    "files = [328342,328348]\n",
    "XMCD = XMCD_data_analysis()\n",
    "XMCD.init()\n",
    "XMCD.load_spectra(directory_path, ﬁle_preﬁx, files,sensor)\n",
    "fig, axs = plt.subplots(2,figsize=(12, 6))\n",
    "B, F, F_norm = XMCD.plotXAS(files,fig,axs)\n",
    "\n",
    "\n"
   ]
  },
  {
   "cell_type": "code",
   "execution_count": null,
   "id": "87ca09df-b549-4482-a3be-546f75c39420",
   "metadata": {
    "editable": true,
    "slideshow": {
     "slide_type": ""
    },
    "tags": []
   },
   "outputs": [],
   "source": []
  },
  {
   "cell_type": "code",
   "execution_count": null,
   "id": "5032d115-423e-4c4c-9aad-d8fa9701ed91",
   "metadata": {},
   "outputs": [],
   "source": []
  }
 ],
 "metadata": {
  "kernelspec": {
   "display_name": "Python 3 (ipykernel)",
   "language": "python",
   "name": "python3"
  },
  "language_info": {
   "codemirror_mode": {
    "name": "ipython",
    "version": 3
   },
   "file_extension": ".py",
   "mimetype": "text/x-python",
   "name": "python",
   "nbconvert_exporter": "python",
   "pygments_lexer": "ipython3",
   "version": "3.12.3"
  }
 },
 "nbformat": 4,
 "nbformat_minor": 5
}
